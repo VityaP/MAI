{
  "nbformat": 4,
  "nbformat_minor": 0,
  "metadata": {
    "colab": {
      "name": "sequence_modeling.ipynb",
      "provenance": [],
      "collapsed_sections": []
    },
    "kernelspec": {
      "name": "python3",
      "display_name": "Python 3"
    },
    "accelerator": "GPU"
  },
  "cells": [
    {
      "cell_type": "markdown",
      "metadata": {
        "id": "RViWZXBC0VDJ",
        "colab_type": "text"
      },
      "source": [
        "Работа основана на предложенном гайде [**RNN Text Generation in Tensorflow**](https://www.gutenberg.org/)"
      ]
    },
    {
      "cell_type": "code",
      "metadata": {
        "id": "ZlN0kkNMynoY",
        "colab_type": "code",
        "colab": {
          "base_uri": "https://localhost:8080/",
          "height": 69
        },
        "outputId": "55c49b21-e644-4a74-865b-7c1c1abff213"
      },
      "source": [
        "import os\n",
        "import tensorflow as tf\n",
        "import matplotlib.pyplot as plt\n",
        "\n",
        "import nltk\n",
        "nltk.download('punkt')"
      ],
      "execution_count": 36,
      "outputs": [
        {
          "output_type": "stream",
          "text": [
            "[nltk_data] Downloading package punkt to /root/nltk_data...\n",
            "[nltk_data]   Package punkt is already up-to-date!\n"
          ],
          "name": "stdout"
        },
        {
          "output_type": "execute_result",
          "data": {
            "text/plain": [
              "True"
            ]
          },
          "metadata": {
            "tags": []
          },
          "execution_count": 36
        }
      ]
    },
    {
      "cell_type": "code",
      "metadata": {
        "id": "ApfbLzOX_ySF",
        "colab_type": "code",
        "colab": {}
      },
      "source": [
        "# Получим один файл из четырех\n",
        "with open('./texts/merged_text.txt', 'w') as of:\n",
        "    for f in os.listdir('texts'):\n",
        "        if f != \"merged_text.txt\" and f.endswith(\".txt\"):\n",
        "            with open('/'.join(['texts', f])) as f:\n",
        "                for line in f:\n",
        "                    of.write(line)"
      ],
      "execution_count": 37,
      "outputs": []
    },
    {
      "cell_type": "code",
      "metadata": {
        "id": "V2eHtlT5JOZe",
        "colab_type": "code",
        "colab": {
          "base_uri": "https://localhost:8080/",
          "height": 72
        },
        "outputId": "850b357a-75bb-4beb-8fb3-edbc05117881"
      },
      "source": [
        "import string\n",
        "bad_chars = ['\\n', '\\t', '\\ufeff']\n",
        "\n",
        "text = open('./texts/merged_text.txt', 'r').read()\n",
        "text = ''.join([w for w in text if not w.isdigit()]).lower()\n",
        "print(text[:50])\n",
        "text = [ch for ch in text if ch not in bad_chars]\n",
        "print(text[:50])"
      ],
      "execution_count": 38,
      "outputs": [
        {
          "output_type": "stream",
          "text": [
            "﻿the project gutenberg ebook of treasure island, b\n",
            "['t', 'h', 'e', ' ', 'p', 'r', 'o', 'j', 'e', 'c', 't', ' ', 'g', 'u', 't', 'e', 'n', 'b', 'e', 'r', 'g', ' ', 'e', 'b', 'o', 'o', 'k', ' ', 'o', 'f', ' ', 't', 'r', 'e', 'a', 's', 'u', 'r', 'e', ' ', 'i', 's', 'l', 'a', 'n', 'd', ',', ' ', 'b', 'y']\n"
          ],
          "name": "stdout"
        }
      ]
    },
    {
      "cell_type": "code",
      "metadata": {
        "id": "bymYYHHxMV3x",
        "colab_type": "code",
        "colab": {
          "base_uri": "https://localhost:8080/",
          "height": 34
        },
        "outputId": "424cfacc-6c97-4f0d-9579-2cce1aa02c31"
      },
      "source": [
        "vocab = sorted(set(text))\n",
        "print (f'Unique symbols: {len(vocab)}')\n"
      ],
      "execution_count": 39,
      "outputs": [
        {
          "output_type": "stream",
          "text": [
            "Unique symbols: 62\n"
          ],
          "name": "stdout"
        }
      ]
    },
    {
      "cell_type": "code",
      "metadata": {
        "id": "g59GdILVNJnS",
        "colab_type": "code",
        "colab": {}
      },
      "source": [
        "import numpy as np\n",
        "\n",
        "word2idx = {u:i for i, u in enumerate(vocab)}\n",
        "idx2word = np.array(vocab)\n",
        "\n",
        "text_as_int = np.array([word2idx[c] for c in text])"
      ],
      "execution_count": 40,
      "outputs": []
    },
    {
      "cell_type": "code",
      "metadata": {
        "id": "TRA7_k3Iogzx",
        "colab_type": "code",
        "colab": {}
      },
      "source": [
        "seq_length = 100\n",
        "examples_per_epoch = len(text) // (seq_length + 1)\n",
        "\n",
        "char_dataset = tf.data.Dataset.from_tensor_slices(text_as_int)"
      ],
      "execution_count": 41,
      "outputs": []
    },
    {
      "cell_type": "code",
      "metadata": {
        "id": "bhMqG6dypmq-",
        "colab_type": "code",
        "colab": {}
      },
      "source": [
        "sequences = char_dataset.batch(seq_length+1, drop_remainder=True)"
      ],
      "execution_count": 42,
      "outputs": []
    },
    {
      "cell_type": "code",
      "metadata": {
        "id": "9ApNclP7qCvl",
        "colab_type": "code",
        "colab": {}
      },
      "source": [
        "def split_input_target(chunk):\n",
        "    input_text = chunk[:-1]\n",
        "    target_text = chunk[1:]\n",
        "    return input_text, target_text\n",
        "\n",
        "dataset = sequences.map(split_input_target)"
      ],
      "execution_count": 43,
      "outputs": []
    },
    {
      "cell_type": "code",
      "metadata": {
        "id": "4TH3ITftrX_z",
        "colab_type": "code",
        "colab": {}
      },
      "source": [
        "BATCH_SIZE = 64\n",
        "BUFFER_SIZE = 1000\n",
        "\n",
        "dataset = dataset.shuffle(BUFFER_SIZE).batch(BATCH_SIZE, drop_remainder=True)"
      ],
      "execution_count": 44,
      "outputs": []
    },
    {
      "cell_type": "code",
      "metadata": {
        "id": "DGurXXIUreCK",
        "colab_type": "code",
        "colab": {}
      },
      "source": [
        "num_epochs = 50\n",
        "vocab_size = len(vocab)\n",
        "emb_dim = 32"
      ],
      "execution_count": 45,
      "outputs": []
    },
    {
      "cell_type": "code",
      "metadata": {
        "id": "-mF9bnye8l-9",
        "colab_type": "code",
        "colab": {}
      },
      "source": [
        "def loss(labels, logits):\n",
        "    return tf.keras.losses.sparse_categorical_crossentropy(labels, logits, from_logits=True)"
      ],
      "execution_count": 46,
      "outputs": []
    },
    {
      "cell_type": "code",
      "metadata": {
        "id": "fkubhXoR_6Iw",
        "colab_type": "code",
        "colab": {}
      },
      "source": [
        "def generate_text(model, start_string):\n",
        "\n",
        "  num_generate = seq_length\n",
        "\n",
        "  input_eval = [word2idx[s] for s in start_string.split()]\n",
        "  input_eval = tf.expand_dims(input_eval, 0)\n",
        "\n",
        "  text_generated = []\n",
        "  temperature = 1.0\n",
        "\n",
        "  model.reset_states()\n",
        "  for i in range(num_generate):\n",
        "      predictions = model(input_eval)\n",
        "      predictions = tf.squeeze(predictions, 0)\n",
        "\n",
        "      predictions = predictions / temperature\n",
        "      predicted_id = tf.random.categorical(predictions, num_samples=1)[-1,0].numpy()\n",
        "\n",
        "      input_eval = tf.expand_dims([predicted_id], 0)\n",
        "\n",
        "      text_generated.append(idx2word[predicted_id])\n",
        "\n",
        "  return (start_string + ''.join(text_generated))"
      ],
      "execution_count": 47,
      "outputs": []
    },
    {
      "cell_type": "code",
      "metadata": {
        "id": "HxK_Cz1OOwKg",
        "colab_type": "code",
        "colab": {}
      },
      "source": [
        "rnn_units = 128"
      ],
      "execution_count": 48,
      "outputs": []
    },
    {
      "cell_type": "code",
      "metadata": {
        "id": "MeWtXjH2u08I",
        "colab_type": "code",
        "colab": {
          "base_uri": "https://localhost:8080/",
          "height": 1000
        },
        "outputId": "dd091297-f8f3-4b9a-fff3-58ac18b3b8da"
      },
      "source": [
        "def RNN(vocab_size, emb_dim, rnn_units, batch_size):\n",
        "    model = tf.keras.Sequential([\n",
        "        tf.keras.layers.Embedding(vocab_size, emb_dim, batch_input_shape=[batch_size, None]),\n",
        "        tf.keras.layers.SimpleRNN(rnn_units, return_sequences=True),\n",
        "        tf.keras.layers.Dense(vocab_size)\n",
        "    ])\n",
        "    return model\n",
        "\n",
        "checkpoint_dir = './checkpoints'\n",
        "checkpoint_prefix = os.path.join(checkpoint_dir, \"ckpt_{epoch}\")\n",
        "\n",
        "checkpoint_callback=tf.keras.callbacks.ModelCheckpoint(\n",
        "    filepath=checkpoint_prefix,\n",
        "    save_weights_only=True)\n",
        "\n",
        "es_callback = tf.keras.callbacks.EarlyStopping(patience=3, monitor='loss')\n",
        "\n",
        "model = RNN(len(vocab), emb_dim, rnn_units, BATCH_SIZE)\n",
        "model.compile(optimizer='adam', loss=loss)\n",
        "history = model.fit(dataset, epochs=num_epochs, callbacks=[checkpoint_callback, es_callback])\n",
        "\n",
        "tf.train.latest_checkpoint(checkpoint_dir)\n",
        "\n",
        "model = RNN(vocab_size, emb_dim, rnn_units, 1)\n",
        "model.load_weights(tf.train.latest_checkpoint(checkpoint_dir))\n",
        "model.build(tf.TensorShape([1, None]))\n",
        "\n",
        "loss_err = history.history['loss']\n",
        "plt.plot(np.arange(1, 1+num_epochs), loss_err)\n",
        "plt.xlabel('Epoch count')\n",
        "plt.ylabel('Loss function')\n",
        "plt.show()\n",
        "\n",
        "print(generate_text(model, start_string=u\"a \"))"
      ],
      "execution_count": 53,
      "outputs": [
        {
          "output_type": "stream",
          "text": [
            "Epoch 1/50\n",
            "WARNING:tensorflow:Unresolved object in checkpoint: (root).optimizer\n",
            "WARNING:tensorflow:Unresolved object in checkpoint: (root).optimizer.iter\n",
            "WARNING:tensorflow:Unresolved object in checkpoint: (root).optimizer.beta_1\n",
            "WARNING:tensorflow:Unresolved object in checkpoint: (root).optimizer.beta_2\n",
            "WARNING:tensorflow:Unresolved object in checkpoint: (root).optimizer.decay\n",
            "WARNING:tensorflow:Unresolved object in checkpoint: (root).optimizer.learning_rate\n",
            "WARNING:tensorflow:Unresolved object in checkpoint: (root).optimizer's state 'm' for (root).layer_with_weights-0.embeddings\n",
            "WARNING:tensorflow:Unresolved object in checkpoint: (root).optimizer's state 'm' for (root).layer_with_weights-2.kernel\n",
            "WARNING:tensorflow:Unresolved object in checkpoint: (root).optimizer's state 'm' for (root).layer_with_weights-2.bias\n",
            "WARNING:tensorflow:Unresolved object in checkpoint: (root).optimizer's state 'm' for (root).layer_with_weights-1.cell.kernel\n",
            "WARNING:tensorflow:Unresolved object in checkpoint: (root).optimizer's state 'm' for (root).layer_with_weights-1.cell.recurrent_kernel\n",
            "WARNING:tensorflow:Unresolved object in checkpoint: (root).optimizer's state 'm' for (root).layer_with_weights-1.cell.bias\n",
            "WARNING:tensorflow:Unresolved object in checkpoint: (root).optimizer's state 'v' for (root).layer_with_weights-0.embeddings\n",
            "WARNING:tensorflow:Unresolved object in checkpoint: (root).optimizer's state 'v' for (root).layer_with_weights-2.kernel\n",
            "WARNING:tensorflow:Unresolved object in checkpoint: (root).optimizer's state 'v' for (root).layer_with_weights-2.bias\n",
            "WARNING:tensorflow:Unresolved object in checkpoint: (root).optimizer's state 'v' for (root).layer_with_weights-1.cell.kernel\n",
            "WARNING:tensorflow:Unresolved object in checkpoint: (root).optimizer's state 'v' for (root).layer_with_weights-1.cell.recurrent_kernel\n",
            "WARNING:tensorflow:Unresolved object in checkpoint: (root).optimizer's state 'v' for (root).layer_with_weights-1.cell.bias\n",
            "WARNING:tensorflow:A checkpoint was restored (e.g. tf.train.Checkpoint.restore or tf.keras.Model.load_weights) but not all checkpointed values were used. See above for specific issues. Use expect_partial() on the load status object, e.g. tf.train.Checkpoint.restore(...).expect_partial(), to silence these warnings, or use assert_consumed() to make the check explicit. See https://www.tensorflow.org/guide/checkpoint#loading_mechanics for details.\n",
            "WARNING:tensorflow:Unresolved object in checkpoint: (root).optimizer\n",
            "WARNING:tensorflow:Unresolved object in checkpoint: (root).optimizer.iter\n",
            "WARNING:tensorflow:Unresolved object in checkpoint: (root).optimizer.beta_1\n",
            "WARNING:tensorflow:Unresolved object in checkpoint: (root).optimizer.beta_2\n",
            "WARNING:tensorflow:Unresolved object in checkpoint: (root).optimizer.decay\n",
            "WARNING:tensorflow:Unresolved object in checkpoint: (root).optimizer.learning_rate\n",
            "WARNING:tensorflow:Unresolved object in checkpoint: (root).optimizer's state 'm' for (root).layer_with_weights-0.embeddings\n",
            "WARNING:tensorflow:Unresolved object in checkpoint: (root).optimizer's state 'm' for (root).layer_with_weights-2.kernel\n",
            "WARNING:tensorflow:Unresolved object in checkpoint: (root).optimizer's state 'm' for (root).layer_with_weights-2.bias\n",
            "WARNING:tensorflow:Unresolved object in checkpoint: (root).optimizer's state 'm' for (root).layer_with_weights-1.cell.kernel\n",
            "WARNING:tensorflow:Unresolved object in checkpoint: (root).optimizer's state 'm' for (root).layer_with_weights-1.cell.recurrent_kernel\n",
            "WARNING:tensorflow:Unresolved object in checkpoint: (root).optimizer's state 'm' for (root).layer_with_weights-1.cell.bias\n",
            "WARNING:tensorflow:Unresolved object in checkpoint: (root).optimizer's state 'v' for (root).layer_with_weights-0.embeddings\n",
            "WARNING:tensorflow:Unresolved object in checkpoint: (root).optimizer's state 'v' for (root).layer_with_weights-2.kernel\n",
            "WARNING:tensorflow:Unresolved object in checkpoint: (root).optimizer's state 'v' for (root).layer_with_weights-2.bias\n",
            "WARNING:tensorflow:Unresolved object in checkpoint: (root).optimizer's state 'v' for (root).layer_with_weights-1.cell.kernel\n",
            "WARNING:tensorflow:Unresolved object in checkpoint: (root).optimizer's state 'v' for (root).layer_with_weights-1.cell.recurrent_kernel\n",
            "WARNING:tensorflow:Unresolved object in checkpoint: (root).optimizer's state 'v' for (root).layer_with_weights-1.cell.bias\n",
            "WARNING:tensorflow:A checkpoint was restored (e.g. tf.train.Checkpoint.restore or tf.keras.Model.load_weights) but not all checkpointed values were used. See above for specific issues. Use expect_partial() on the load status object, e.g. tf.train.Checkpoint.restore(...).expect_partial(), to silence these warnings, or use assert_consumed() to make the check explicit. See https://www.tensorflow.org/guide/checkpoint#loading_mechanics for details.\n",
            "WARNING:tensorflow:Unresolved object in checkpoint: (root).optimizer\n",
            "WARNING:tensorflow:Unresolved object in checkpoint: (root).optimizer.iter\n",
            "WARNING:tensorflow:Unresolved object in checkpoint: (root).optimizer.beta_1\n",
            "WARNING:tensorflow:Unresolved object in checkpoint: (root).optimizer.beta_2\n",
            "WARNING:tensorflow:Unresolved object in checkpoint: (root).optimizer.decay\n",
            "WARNING:tensorflow:Unresolved object in checkpoint: (root).optimizer.learning_rate\n",
            "WARNING:tensorflow:Unresolved object in checkpoint: (root).optimizer's state 'm' for (root).layer_with_weights-0.embeddings\n",
            "WARNING:tensorflow:Unresolved object in checkpoint: (root).optimizer's state 'm' for (root).layer_with_weights-2.kernel\n",
            "WARNING:tensorflow:Unresolved object in checkpoint: (root).optimizer's state 'm' for (root).layer_with_weights-2.bias\n",
            "WARNING:tensorflow:Unresolved object in checkpoint: (root).optimizer's state 'm' for (root).layer_with_weights-1.cell.kernel\n",
            "WARNING:tensorflow:Unresolved object in checkpoint: (root).optimizer's state 'm' for (root).layer_with_weights-1.cell.recurrent_kernel\n",
            "WARNING:tensorflow:Unresolved object in checkpoint: (root).optimizer's state 'm' for (root).layer_with_weights-1.cell.bias\n",
            "WARNING:tensorflow:Unresolved object in checkpoint: (root).optimizer's state 'v' for (root).layer_with_weights-0.embeddings\n",
            "WARNING:tensorflow:Unresolved object in checkpoint: (root).optimizer's state 'v' for (root).layer_with_weights-2.kernel\n",
            "WARNING:tensorflow:Unresolved object in checkpoint: (root).optimizer's state 'v' for (root).layer_with_weights-2.bias\n",
            "WARNING:tensorflow:Unresolved object in checkpoint: (root).optimizer's state 'v' for (root).layer_with_weights-1.cell.kernel\n",
            "WARNING:tensorflow:Unresolved object in checkpoint: (root).optimizer's state 'v' for (root).layer_with_weights-1.cell.recurrent_kernel\n",
            "WARNING:tensorflow:Unresolved object in checkpoint: (root).optimizer's state 'v' for (root).layer_with_weights-1.cell.bias\n",
            "WARNING:tensorflow:A checkpoint was restored (e.g. tf.train.Checkpoint.restore or tf.keras.Model.load_weights) but not all checkpointed values were used. See above for specific issues. Use expect_partial() on the load status object, e.g. tf.train.Checkpoint.restore(...).expect_partial(), to silence these warnings, or use assert_consumed() to make the check explicit. See https://www.tensorflow.org/guide/checkpoint#loading_mechanics for details.\n",
            "192/192 [==============================] - 10s 50ms/step - loss: 2.8143\n",
            "Epoch 2/50\n",
            "192/192 [==============================] - 9s 47ms/step - loss: 2.3218\n",
            "Epoch 3/50\n",
            "192/192 [==============================] - 9s 48ms/step - loss: 2.1608\n",
            "Epoch 4/50\n",
            "192/192 [==============================] - 9s 47ms/step - loss: 2.0569\n",
            "Epoch 5/50\n",
            "192/192 [==============================] - 9s 48ms/step - loss: 1.9827\n",
            "Epoch 6/50\n",
            "192/192 [==============================] - 9s 49ms/step - loss: 1.9266\n",
            "Epoch 7/50\n",
            "192/192 [==============================] - 9s 47ms/step - loss: 1.8827\n",
            "Epoch 8/50\n",
            "192/192 [==============================] - 9s 48ms/step - loss: 1.8462\n",
            "Epoch 9/50\n",
            "192/192 [==============================] - 9s 47ms/step - loss: 1.8163\n",
            "Epoch 10/50\n",
            "192/192 [==============================] - 9s 48ms/step - loss: 1.7910\n",
            "Epoch 11/50\n",
            "192/192 [==============================] - 9s 47ms/step - loss: 1.7697\n",
            "Epoch 12/50\n",
            "192/192 [==============================] - 9s 48ms/step - loss: 1.7515\n",
            "Epoch 13/50\n",
            "192/192 [==============================] - 9s 48ms/step - loss: 1.7352\n",
            "Epoch 14/50\n",
            "192/192 [==============================] - 9s 47ms/step - loss: 1.7216\n",
            "Epoch 15/50\n",
            "192/192 [==============================] - 9s 49ms/step - loss: 1.7091\n",
            "Epoch 16/50\n",
            "192/192 [==============================] - 9s 48ms/step - loss: 1.6982\n",
            "Epoch 17/50\n",
            "192/192 [==============================] - 9s 47ms/step - loss: 1.6887\n",
            "Epoch 18/50\n",
            "192/192 [==============================] - 9s 48ms/step - loss: 1.6803\n",
            "Epoch 19/50\n",
            "192/192 [==============================] - 9s 48ms/step - loss: 1.6721\n",
            "Epoch 20/50\n",
            "192/192 [==============================] - 9s 48ms/step - loss: 1.6648\n",
            "Epoch 21/50\n",
            "192/192 [==============================] - 9s 48ms/step - loss: 1.6586\n",
            "Epoch 22/50\n",
            "192/192 [==============================] - 9s 48ms/step - loss: 1.6529\n",
            "Epoch 23/50\n",
            "192/192 [==============================] - 9s 48ms/step - loss: 1.6472\n",
            "Epoch 24/50\n",
            "192/192 [==============================] - 9s 48ms/step - loss: 1.6418\n",
            "Epoch 25/50\n",
            "192/192 [==============================] - 9s 49ms/step - loss: 1.6371\n",
            "Epoch 26/50\n",
            "192/192 [==============================] - 9s 47ms/step - loss: 1.6329\n",
            "Epoch 27/50\n",
            "192/192 [==============================] - 9s 47ms/step - loss: 1.6285\n",
            "Epoch 28/50\n",
            "192/192 [==============================] - 9s 47ms/step - loss: 1.6245\n",
            "Epoch 29/50\n",
            "192/192 [==============================] - 9s 48ms/step - loss: 1.6205\n",
            "Epoch 30/50\n",
            "192/192 [==============================] - 9s 47ms/step - loss: 1.6171\n",
            "Epoch 31/50\n",
            "192/192 [==============================] - 9s 47ms/step - loss: 1.6138\n",
            "Epoch 32/50\n",
            "192/192 [==============================] - 9s 48ms/step - loss: 1.6112\n",
            "Epoch 33/50\n",
            "192/192 [==============================] - 9s 47ms/step - loss: 1.6076\n",
            "Epoch 34/50\n",
            "192/192 [==============================] - 10s 50ms/step - loss: 1.6048\n",
            "Epoch 35/50\n",
            "192/192 [==============================] - 9s 48ms/step - loss: 1.6020\n",
            "Epoch 36/50\n",
            "192/192 [==============================] - 9s 47ms/step - loss: 1.5998\n",
            "Epoch 37/50\n",
            "192/192 [==============================] - 9s 47ms/step - loss: 1.5974\n",
            "Epoch 38/50\n",
            "192/192 [==============================] - 9s 47ms/step - loss: 1.5951\n",
            "Epoch 39/50\n",
            "192/192 [==============================] - 9s 47ms/step - loss: 1.5926\n",
            "Epoch 40/50\n",
            "192/192 [==============================] - 9s 47ms/step - loss: 1.5907\n",
            "Epoch 41/50\n",
            "192/192 [==============================] - 9s 48ms/step - loss: 1.5888\n",
            "Epoch 42/50\n",
            "192/192 [==============================] - 9s 47ms/step - loss: 1.5868\n",
            "Epoch 43/50\n",
            "192/192 [==============================] - 9s 47ms/step - loss: 1.5848\n",
            "Epoch 44/50\n",
            "192/192 [==============================] - 9s 47ms/step - loss: 1.5831\n",
            "Epoch 45/50\n",
            "192/192 [==============================] - 9s 47ms/step - loss: 1.5813\n",
            "Epoch 46/50\n",
            "192/192 [==============================] - 9s 47ms/step - loss: 1.5798\n",
            "Epoch 47/50\n",
            "192/192 [==============================] - 9s 47ms/step - loss: 1.5780\n",
            "Epoch 48/50\n",
            "192/192 [==============================] - 9s 46ms/step - loss: 1.5764\n",
            "Epoch 49/50\n",
            "192/192 [==============================] - 9s 47ms/step - loss: 1.5749\n",
            "Epoch 50/50\n",
            "192/192 [==============================] - 9s 48ms/step - loss: 1.5733\n"
          ],
          "name": "stdout"
        },
        {
          "output_type": "display_data",
          "data": {
            "image/png": "[encoded data removed]",
            "text/plain": [
              "<Figure size 432x288 with 1 Axes>"
            ]
          },
          "metadata": {
            "tags": [],
            "needs_background": "light"
          }
        },
        {
          "output_type": "stream",
          "text": [
            "a touchedifat wase a!” strurilitw. tha ar cr _ alon t steded, whabesupalithencrathef wathusthe dithene\n"
          ],
          "name": "stdout"
        }
      ]
    },
    {
      "cell_type": "code",
      "metadata": {
        "id": "xYirm8EY4zK6",
        "colab_type": "code",
        "colab": {
          "base_uri": "https://localhost:8080/",
          "height": 1000
        },
        "outputId": "0e8e31b7-ffa8-4137-e154-699165ca6ebf"
      },
      "source": [
        "def GRU(vocab_size, emb_dim, rnn_units, batch_size):\n",
        "    model = tf.keras.Sequential([\n",
        "        tf.keras.layers.Embedding(vocab_size, emb_dim, batch_input_shape=[batch_size, None]),\n",
        "        tf.keras.layers.GRU(rnn_units, return_sequences=True),\n",
        "        tf.keras.layers.Dense(vocab_size)\n",
        "    ])\n",
        "    return model\n",
        "\n",
        "checkpoint_dir = './checkpoints'\n",
        "checkpoint_prefix = os.path.join(checkpoint_dir, \"ckpt_{epoch}\")\n",
        "\n",
        "checkpoint_callback=tf.keras.callbacks.ModelCheckpoint(\n",
        "    filepath=checkpoint_prefix,\n",
        "    save_weights_only=True)\n",
        "\n",
        "es_callback = tf.keras.callbacks.EarlyStopping(patience=3, monitor='loss')\n",
        "\n",
        "model = GRU(len(vocab), emb_dim, rnn_units, BATCH_SIZE)\n",
        "model.compile(optimizer='adam', loss=loss)\n",
        "history = model.fit(dataset, epochs=num_epochs, callbacks=[checkpoint_callback, es_callback])\n",
        "\n",
        "tf.train.latest_checkpoint(checkpoint_dir)\n",
        "\n",
        "model = GRU(vocab_size, emb_dim, rnn_units, 1)\n",
        "model.load_weights(tf.train.latest_checkpoint(checkpoint_dir))\n",
        "model.build(tf.TensorShape([1, None]))\n",
        "\n",
        "loss_err = history.history['loss']\n",
        "plt.plot(np.arange(1, 1+num_epochs), loss_err)\n",
        "plt.xlabel('Epoch count')\n",
        "plt.ylabel('Loss function')\n",
        "plt.show()\n",
        "\n",
        "print(generate_text(model, start_string=u\"a \"))"
      ],
      "execution_count": 50,
      "outputs": [
        {
          "output_type": "stream",
          "text": [
            "Epoch 1/50\n",
            "WARNING:tensorflow:Unresolved object in checkpoint: (root).optimizer\n",
            "WARNING:tensorflow:Unresolved object in checkpoint: (root).optimizer.iter\n",
            "WARNING:tensorflow:Unresolved object in checkpoint: (root).optimizer.beta_1\n",
            "WARNING:tensorflow:Unresolved object in checkpoint: (root).optimizer.beta_2\n",
            "WARNING:tensorflow:Unresolved object in checkpoint: (root).optimizer.decay\n",
            "WARNING:tensorflow:Unresolved object in checkpoint: (root).optimizer.learning_rate\n",
            "WARNING:tensorflow:Unresolved object in checkpoint: (root).optimizer's state 'm' for (root).layer_with_weights-0.embeddings\n",
            "WARNING:tensorflow:Unresolved object in checkpoint: (root).optimizer's state 'm' for (root).layer_with_weights-2.kernel\n",
            "WARNING:tensorflow:Unresolved object in checkpoint: (root).optimizer's state 'm' for (root).layer_with_weights-2.bias\n",
            "WARNING:tensorflow:Unresolved object in checkpoint: (root).optimizer's state 'm' for (root).layer_with_weights-1.cell.kernel\n",
            "WARNING:tensorflow:Unresolved object in checkpoint: (root).optimizer's state 'm' for (root).layer_with_weights-1.cell.recurrent_kernel\n",
            "WARNING:tensorflow:Unresolved object in checkpoint: (root).optimizer's state 'm' for (root).layer_with_weights-1.cell.bias\n",
            "WARNING:tensorflow:Unresolved object in checkpoint: (root).optimizer's state 'v' for (root).layer_with_weights-0.embeddings\n",
            "WARNING:tensorflow:Unresolved object in checkpoint: (root).optimizer's state 'v' for (root).layer_with_weights-2.kernel\n",
            "WARNING:tensorflow:Unresolved object in checkpoint: (root).optimizer's state 'v' for (root).layer_with_weights-2.bias\n",
            "WARNING:tensorflow:Unresolved object in checkpoint: (root).optimizer's state 'v' for (root).layer_with_weights-1.cell.kernel\n",
            "WARNING:tensorflow:Unresolved object in checkpoint: (root).optimizer's state 'v' for (root).layer_with_weights-1.cell.recurrent_kernel\n",
            "WARNING:tensorflow:Unresolved object in checkpoint: (root).optimizer's state 'v' for (root).layer_with_weights-1.cell.bias\n",
            "WARNING:tensorflow:A checkpoint was restored (e.g. tf.train.Checkpoint.restore or tf.keras.Model.load_weights) but not all checkpointed values were used. See above for specific issues. Use expect_partial() on the load status object, e.g. tf.train.Checkpoint.restore(...).expect_partial(), to silence these warnings, or use assert_consumed() to make the check explicit. See https://www.tensorflow.org/guide/checkpoint#loading_mechanics for details.\n",
            "WARNING:tensorflow:Unresolved object in checkpoint: (root).optimizer\n",
            "WARNING:tensorflow:Unresolved object in checkpoint: (root).optimizer.iter\n",
            "WARNING:tensorflow:Unresolved object in checkpoint: (root).optimizer.beta_1\n",
            "WARNING:tensorflow:Unresolved object in checkpoint: (root).optimizer.beta_2\n",
            "WARNING:tensorflow:Unresolved object in checkpoint: (root).optimizer.decay\n",
            "WARNING:tensorflow:Unresolved object in checkpoint: (root).optimizer.learning_rate\n",
            "WARNING:tensorflow:Unresolved object in checkpoint: (root).optimizer's state 'm' for (root).layer_with_weights-0.embeddings\n",
            "WARNING:tensorflow:Unresolved object in checkpoint: (root).optimizer's state 'm' for (root).layer_with_weights-2.kernel\n",
            "WARNING:tensorflow:Unresolved object in checkpoint: (root).optimizer's state 'm' for (root).layer_with_weights-2.bias\n",
            "WARNING:tensorflow:Unresolved object in checkpoint: (root).optimizer's state 'm' for (root).layer_with_weights-1.cell.kernel\n",
            "WARNING:tensorflow:Unresolved object in checkpoint: (root).optimizer's state 'm' for (root).layer_with_weights-1.cell.recurrent_kernel\n",
            "WARNING:tensorflow:Unresolved object in checkpoint: (root).optimizer's state 'm' for (root).layer_with_weights-1.cell.bias\n",
            "WARNING:tensorflow:Unresolved object in checkpoint: (root).optimizer's state 'v' for (root).layer_with_weights-0.embeddings\n",
            "WARNING:tensorflow:Unresolved object in checkpoint: (root).optimizer's state 'v' for (root).layer_with_weights-2.kernel\n",
            "WARNING:tensorflow:Unresolved object in checkpoint: (root).optimizer's state 'v' for (root).layer_with_weights-2.bias\n",
            "WARNING:tensorflow:Unresolved object in checkpoint: (root).optimizer's state 'v' for (root).layer_with_weights-1.cell.kernel\n",
            "WARNING:tensorflow:Unresolved object in checkpoint: (root).optimizer's state 'v' for (root).layer_with_weights-1.cell.recurrent_kernel\n",
            "WARNING:tensorflow:Unresolved object in checkpoint: (root).optimizer's state 'v' for (root).layer_with_weights-1.cell.bias\n",
            "WARNING:tensorflow:A checkpoint was restored (e.g. tf.train.Checkpoint.restore or tf.keras.Model.load_weights) but not all checkpointed values were used. See above for specific issues. Use expect_partial() on the load status object, e.g. tf.train.Checkpoint.restore(...).expect_partial(), to silence these warnings, or use assert_consumed() to make the check explicit. See https://www.tensorflow.org/guide/checkpoint#loading_mechanics for details.\n",
            "WARNING:tensorflow:Unresolved object in checkpoint: (root).optimizer\n",
            "WARNING:tensorflow:Unresolved object in checkpoint: (root).optimizer.iter\n",
            "WARNING:tensorflow:Unresolved object in checkpoint: (root).optimizer.beta_1\n",
            "WARNING:tensorflow:Unresolved object in checkpoint: (root).optimizer.beta_2\n",
            "WARNING:tensorflow:Unresolved object in checkpoint: (root).optimizer.decay\n",
            "WARNING:tensorflow:Unresolved object in checkpoint: (root).optimizer.learning_rate\n",
            "WARNING:tensorflow:Unresolved object in checkpoint: (root).optimizer's state 'm' for (root).layer_with_weights-0.embeddings\n",
            "WARNING:tensorflow:Unresolved object in checkpoint: (root).optimizer's state 'm' for (root).layer_with_weights-2.kernel\n",
            "WARNING:tensorflow:Unresolved object in checkpoint: (root).optimizer's state 'm' for (root).layer_with_weights-2.bias\n",
            "WARNING:tensorflow:Unresolved object in checkpoint: (root).optimizer's state 'm' for (root).layer_with_weights-1.cell.kernel\n",
            "WARNING:tensorflow:Unresolved object in checkpoint: (root).optimizer's state 'm' for (root).layer_with_weights-1.cell.recurrent_kernel\n",
            "WARNING:tensorflow:Unresolved object in checkpoint: (root).optimizer's state 'm' for (root).layer_with_weights-1.cell.bias\n",
            "WARNING:tensorflow:Unresolved object in checkpoint: (root).optimizer's state 'v' for (root).layer_with_weights-0.embeddings\n",
            "WARNING:tensorflow:Unresolved object in checkpoint: (root).optimizer's state 'v' for (root).layer_with_weights-2.kernel\n",
            "WARNING:tensorflow:Unresolved object in checkpoint: (root).optimizer's state 'v' for (root).layer_with_weights-2.bias\n",
            "WARNING:tensorflow:Unresolved object in checkpoint: (root).optimizer's state 'v' for (root).layer_with_weights-1.cell.kernel\n",
            "WARNING:tensorflow:Unresolved object in checkpoint: (root).optimizer's state 'v' for (root).layer_with_weights-1.cell.recurrent_kernel\n",
            "WARNING:tensorflow:Unresolved object in checkpoint: (root).optimizer's state 'v' for (root).layer_with_weights-1.cell.bias\n",
            "WARNING:tensorflow:A checkpoint was restored (e.g. tf.train.Checkpoint.restore or tf.keras.Model.load_weights) but not all checkpointed values were used. See above for specific issues. Use expect_partial() on the load status object, e.g. tf.train.Checkpoint.restore(...).expect_partial(), to silence these warnings, or use assert_consumed() to make the check explicit. See https://www.tensorflow.org/guide/checkpoint#loading_mechanics for details.\n",
            "WARNING:tensorflow:Unresolved object in checkpoint: (root).optimizer\n",
            "WARNING:tensorflow:Unresolved object in checkpoint: (root).optimizer.iter\n",
            "WARNING:tensorflow:Unresolved object in checkpoint: (root).optimizer.beta_1\n",
            "WARNING:tensorflow:Unresolved object in checkpoint: (root).optimizer.beta_2\n",
            "WARNING:tensorflow:Unresolved object in checkpoint: (root).optimizer.decay\n",
            "WARNING:tensorflow:Unresolved object in checkpoint: (root).optimizer.learning_rate\n",
            "WARNING:tensorflow:Unresolved object in checkpoint: (root).optimizer's state 'm' for (root).layer_with_weights-0.embeddings\n",
            "WARNING:tensorflow:Unresolved object in checkpoint: (root).optimizer's state 'm' for (root).layer_with_weights-2.kernel\n",
            "WARNING:tensorflow:Unresolved object in checkpoint: (root).optimizer's state 'm' for (root).layer_with_weights-2.bias\n",
            "WARNING:tensorflow:Unresolved object in checkpoint: (root).optimizer's state 'm' for (root).layer_with_weights-1.cell.kernel\n",
            "WARNING:tensorflow:Unresolved object in checkpoint: (root).optimizer's state 'm' for (root).layer_with_weights-1.cell.recurrent_kernel\n",
            "WARNING:tensorflow:Unresolved object in checkpoint: (root).optimizer's state 'm' for (root).layer_with_weights-1.cell.bias\n",
            "WARNING:tensorflow:Unresolved object in checkpoint: (root).optimizer's state 'v' for (root).layer_with_weights-0.embeddings\n",
            "WARNING:tensorflow:Unresolved object in checkpoint: (root).optimizer's state 'v' for (root).layer_with_weights-2.kernel\n",
            "WARNING:tensorflow:Unresolved object in checkpoint: (root).optimizer's state 'v' for (root).layer_with_weights-2.bias\n",
            "WARNING:tensorflow:Unresolved object in checkpoint: (root).optimizer's state 'v' for (root).layer_with_weights-1.cell.kernel\n",
            "WARNING:tensorflow:Unresolved object in checkpoint: (root).optimizer's state 'v' for (root).layer_with_weights-1.cell.recurrent_kernel\n",
            "WARNING:tensorflow:Unresolved object in checkpoint: (root).optimizer's state 'v' for (root).layer_with_weights-1.cell.bias\n",
            "WARNING:tensorflow:A checkpoint was restored (e.g. tf.train.Checkpoint.restore or tf.keras.Model.load_weights) but not all checkpointed values were used. See above for specific issues. Use expect_partial() on the load status object, e.g. tf.train.Checkpoint.restore(...).expect_partial(), to silence these warnings, or use assert_consumed() to make the check explicit. See https://www.tensorflow.org/guide/checkpoint#loading_mechanics for details.\n",
            "192/192 [==============================] - 2s 12ms/step - loss: 2.9473\n",
            "Epoch 2/50\n",
            "192/192 [==============================] - 2s 11ms/step - loss: 2.3914\n",
            "Epoch 3/50\n",
            "192/192 [==============================] - 2s 11ms/step - loss: 2.2274\n",
            "Epoch 4/50\n",
            "192/192 [==============================] - 2s 12ms/step - loss: 2.0802\n",
            "Epoch 5/50\n",
            "192/192 [==============================] - 2s 11ms/step - loss: 1.9624\n",
            "Epoch 6/50\n",
            "192/192 [==============================] - 2s 11ms/step - loss: 1.8742\n",
            "Epoch 7/50\n",
            "192/192 [==============================] - 2s 11ms/step - loss: 1.8079\n",
            "Epoch 8/50\n",
            "192/192 [==============================] - 2s 12ms/step - loss: 1.7557\n",
            "Epoch 9/50\n",
            "192/192 [==============================] - 2s 11ms/step - loss: 1.7144\n",
            "Epoch 10/50\n",
            "192/192 [==============================] - 2s 11ms/step - loss: 1.6812\n",
            "Epoch 11/50\n",
            "192/192 [==============================] - 2s 11ms/step - loss: 1.6535\n",
            "Epoch 12/50\n",
            "192/192 [==============================] - 2s 11ms/step - loss: 1.6305\n",
            "Epoch 13/50\n",
            "192/192 [==============================] - 2s 11ms/step - loss: 1.6110\n",
            "Epoch 14/50\n",
            "192/192 [==============================] - 2s 11ms/step - loss: 1.5945\n",
            "Epoch 15/50\n",
            "192/192 [==============================] - 2s 11ms/step - loss: 1.5800\n",
            "Epoch 16/50\n",
            "192/192 [==============================] - 2s 11ms/step - loss: 1.5670\n",
            "Epoch 17/50\n",
            "192/192 [==============================] - 2s 11ms/step - loss: 1.5558\n",
            "Epoch 18/50\n",
            "192/192 [==============================] - 2s 11ms/step - loss: 1.5457\n",
            "Epoch 19/50\n",
            "192/192 [==============================] - 2s 11ms/step - loss: 1.5364\n",
            "Epoch 20/50\n",
            "192/192 [==============================] - 2s 11ms/step - loss: 1.5287\n",
            "Epoch 21/50\n",
            "192/192 [==============================] - 2s 11ms/step - loss: 1.5214\n",
            "Epoch 22/50\n",
            "192/192 [==============================] - 2s 11ms/step - loss: 1.5143\n",
            "Epoch 23/50\n",
            "192/192 [==============================] - 2s 11ms/step - loss: 1.5086\n",
            "Epoch 24/50\n",
            "192/192 [==============================] - 2s 12ms/step - loss: 1.5029\n",
            "Epoch 25/50\n",
            "192/192 [==============================] - 2s 11ms/step - loss: 1.4975\n",
            "Epoch 26/50\n",
            "192/192 [==============================] - 2s 12ms/step - loss: 1.4928\n",
            "Epoch 27/50\n",
            "192/192 [==============================] - 2s 11ms/step - loss: 1.4880\n",
            "Epoch 28/50\n",
            "192/192 [==============================] - 2s 11ms/step - loss: 1.4840\n",
            "Epoch 29/50\n",
            "192/192 [==============================] - 2s 11ms/step - loss: 1.4796\n",
            "Epoch 30/50\n",
            "192/192 [==============================] - 2s 11ms/step - loss: 1.4758\n",
            "Epoch 31/50\n",
            "192/192 [==============================] - 2s 11ms/step - loss: 1.4725\n",
            "Epoch 32/50\n",
            "192/192 [==============================] - 2s 11ms/step - loss: 1.4688\n",
            "Epoch 33/50\n",
            "192/192 [==============================] - 2s 11ms/step - loss: 1.4658\n",
            "Epoch 34/50\n",
            "192/192 [==============================] - 2s 11ms/step - loss: 1.4629\n",
            "Epoch 35/50\n",
            "192/192 [==============================] - 2s 12ms/step - loss: 1.4601\n",
            "Epoch 36/50\n",
            "192/192 [==============================] - 2s 11ms/step - loss: 1.4573\n",
            "Epoch 37/50\n",
            "192/192 [==============================] - 2s 11ms/step - loss: 1.4545\n",
            "Epoch 38/50\n",
            "192/192 [==============================] - 2s 11ms/step - loss: 1.4523\n",
            "Epoch 39/50\n",
            "192/192 [==============================] - 2s 11ms/step - loss: 1.4498\n",
            "Epoch 40/50\n",
            "192/192 [==============================] - 2s 11ms/step - loss: 1.4475\n",
            "Epoch 41/50\n",
            "192/192 [==============================] - 2s 11ms/step - loss: 1.4453\n",
            "Epoch 42/50\n",
            "192/192 [==============================] - 2s 11ms/step - loss: 1.4434\n",
            "Epoch 43/50\n",
            "192/192 [==============================] - 2s 11ms/step - loss: 1.4412\n",
            "Epoch 44/50\n",
            "192/192 [==============================] - 2s 12ms/step - loss: 1.4394\n",
            "Epoch 45/50\n",
            "192/192 [==============================] - 2s 12ms/step - loss: 1.4375\n",
            "Epoch 46/50\n",
            "192/192 [==============================] - 2s 12ms/step - loss: 1.4354\n",
            "Epoch 47/50\n",
            "192/192 [==============================] - 2s 12ms/step - loss: 1.4339\n",
            "Epoch 48/50\n",
            "192/192 [==============================] - 2s 12ms/step - loss: 1.4323\n",
            "Epoch 49/50\n",
            "192/192 [==============================] - 2s 12ms/step - loss: 1.4307\n",
            "Epoch 50/50\n",
            "192/192 [==============================] - 2s 12ms/step - loss: 1.4288\n"
          ],
          "name": "stdout"
        },
        {
          "output_type": "display_data",
          "data": {
            "image/png": "[encoded data removed]",
            "text/plain": [
              "<Figure size 432x288 with 1 Axes>"
            ]
          },
          "metadata": {
            "tags": [],
            "needs_background": "light"
          }
        },
        {
          "output_type": "stream",
          "text": [
            "a nobe igonghexte thable d,”“went plo\", ond they, as. ou t thecar, aly in.“w t y he ncancoulor.” teves\n"
          ],
          "name": "stdout"
        }
      ]
    },
    {
      "cell_type": "code",
      "metadata": {
        "id": "CosjPRID2KoJ",
        "colab_type": "code",
        "colab": {
          "base_uri": "https://localhost:8080/",
          "height": 1000
        },
        "outputId": "63ab0ab4-f301-4b05-9a8e-ce2b5493c0cb"
      },
      "source": [
        "def OneLayerLSTM(vocab_size, emb_dim, rnn_units, batch_size):\n",
        "    model = tf.keras.Sequential([\n",
        "        tf.keras.layers.Embedding(vocab_size, emb_dim, batch_input_shape=[batch_size, None]),\n",
        "        tf.keras.layers.LSTM(rnn_units, return_sequences=True, stateful=True),\n",
        "        tf.keras.layers.Dense(vocab_size)\n",
        "    ])\n",
        "    return model\n",
        "\n",
        "checkpoint_dir = './checkpoints'\n",
        "checkpoint_prefix = os.path.join(checkpoint_dir, \"ckpt_{epoch}\")\n",
        "\n",
        "checkpoint_callback=tf.keras.callbacks.ModelCheckpoint(\n",
        "    filepath=checkpoint_prefix,\n",
        "    save_weights_only=True)\n",
        "\n",
        "es_callback = tf.keras.callbacks.EarlyStopping(patience=3, monitor='loss')\n",
        "\n",
        "model = OneLayerLSTM(len(vocab), emb_dim, rnn_units, BATCH_SIZE)\n",
        "model.compile(optimizer='adam', loss=loss)\n",
        "history = model.fit(dataset, epochs=num_epochs, callbacks=[checkpoint_callback, es_callback])\n",
        "\n",
        "tf.train.latest_checkpoint(checkpoint_dir)\n",
        "\n",
        "model = OneLayerLSTM(vocab_size, emb_dim, rnn_units, 1)\n",
        "model.load_weights(tf.train.latest_checkpoint(checkpoint_dir))\n",
        "model.build(tf.TensorShape([1, None]))\n",
        "\n",
        "loss_err = history.history['loss']\n",
        "plt.plot(np.arange(1, 1+num_epochs), loss_err)\n",
        "plt.xlabel('Epoch count')\n",
        "plt.ylabel('Loss function')\n",
        "plt.show()\n",
        "\n",
        "print(generate_text(model, start_string=u\"a \"))"
      ],
      "execution_count": 51,
      "outputs": [
        {
          "output_type": "stream",
          "text": [
            "Epoch 1/50\n",
            "192/192 [==============================] - 2s 12ms/step - loss: 2.9618\n",
            "Epoch 2/50\n",
            "192/192 [==============================] - 2s 12ms/step - loss: 2.4495\n",
            "Epoch 3/50\n",
            "192/192 [==============================] - 2s 12ms/step - loss: 2.2923\n",
            "Epoch 4/50\n",
            "192/192 [==============================] - 2s 12ms/step - loss: 2.1950\n",
            "Epoch 5/50\n",
            "192/192 [==============================] - 2s 12ms/step - loss: 2.1262\n",
            "Epoch 6/50\n",
            "192/192 [==============================] - 2s 12ms/step - loss: 2.0707\n",
            "Epoch 7/50\n",
            "192/192 [==============================] - 2s 12ms/step - loss: 2.0228\n",
            "Epoch 8/50\n",
            "192/192 [==============================] - 2s 12ms/step - loss: 1.9812\n",
            "Epoch 9/50\n",
            "192/192 [==============================] - 2s 12ms/step - loss: 1.9459\n",
            "Epoch 10/50\n",
            "192/192 [==============================] - 2s 12ms/step - loss: 1.9154\n",
            "Epoch 11/50\n",
            "192/192 [==============================] - 2s 12ms/step - loss: 1.8878\n",
            "Epoch 12/50\n",
            "192/192 [==============================] - 2s 12ms/step - loss: 1.8630\n",
            "Epoch 13/50\n",
            "192/192 [==============================] - 2s 12ms/step - loss: 1.8401\n",
            "Epoch 14/50\n",
            "192/192 [==============================] - 2s 12ms/step - loss: 1.8187\n",
            "Epoch 15/50\n",
            "192/192 [==============================] - 2s 12ms/step - loss: 1.7998\n",
            "Epoch 16/50\n",
            "192/192 [==============================] - 2s 12ms/step - loss: 1.7819\n",
            "Epoch 17/50\n",
            "192/192 [==============================] - 2s 12ms/step - loss: 1.7659\n",
            "Epoch 18/50\n",
            "192/192 [==============================] - 2s 12ms/step - loss: 1.7508\n",
            "Epoch 19/50\n",
            "192/192 [==============================] - 2s 12ms/step - loss: 1.7365\n",
            "Epoch 20/50\n",
            "192/192 [==============================] - 2s 13ms/step - loss: 1.7237\n",
            "Epoch 21/50\n",
            "192/192 [==============================] - 3s 13ms/step - loss: 1.7118\n",
            "Epoch 22/50\n",
            "192/192 [==============================] - 2s 13ms/step - loss: 1.7006\n",
            "Epoch 23/50\n",
            "192/192 [==============================] - 2s 13ms/step - loss: 1.6902\n",
            "Epoch 24/50\n",
            "192/192 [==============================] - 2s 12ms/step - loss: 1.6798\n",
            "Epoch 25/50\n",
            "192/192 [==============================] - 2s 13ms/step - loss: 1.6708\n",
            "Epoch 26/50\n",
            "192/192 [==============================] - 2s 12ms/step - loss: 1.6626\n",
            "Epoch 27/50\n",
            "192/192 [==============================] - 2s 12ms/step - loss: 1.6546\n",
            "Epoch 28/50\n",
            "192/192 [==============================] - 2s 12ms/step - loss: 1.6475\n",
            "Epoch 29/50\n",
            "192/192 [==============================] - 2s 12ms/step - loss: 1.6401\n",
            "Epoch 30/50\n",
            "192/192 [==============================] - 2s 12ms/step - loss: 1.6331\n",
            "Epoch 31/50\n",
            "192/192 [==============================] - 2s 12ms/step - loss: 1.6268\n",
            "Epoch 32/50\n",
            "192/192 [==============================] - 2s 12ms/step - loss: 1.6210\n",
            "Epoch 33/50\n",
            "192/192 [==============================] - 2s 12ms/step - loss: 1.6148\n",
            "Epoch 34/50\n",
            "192/192 [==============================] - 2s 12ms/step - loss: 1.6087\n",
            "Epoch 35/50\n",
            "192/192 [==============================] - 2s 12ms/step - loss: 1.6037\n",
            "Epoch 36/50\n",
            "192/192 [==============================] - 2s 12ms/step - loss: 1.5992\n",
            "Epoch 37/50\n",
            "192/192 [==============================] - 2s 12ms/step - loss: 1.5945\n",
            "Epoch 38/50\n",
            "192/192 [==============================] - 2s 13ms/step - loss: 1.5896\n",
            "Epoch 39/50\n",
            "192/192 [==============================] - 2s 12ms/step - loss: 1.5853\n",
            "Epoch 40/50\n",
            "192/192 [==============================] - 2s 12ms/step - loss: 1.5810\n",
            "Epoch 41/50\n",
            "192/192 [==============================] - 2s 12ms/step - loss: 1.5768\n",
            "Epoch 42/50\n",
            "192/192 [==============================] - 2s 12ms/step - loss: 1.5731\n",
            "Epoch 43/50\n",
            "192/192 [==============================] - 2s 13ms/step - loss: 1.5694\n",
            "Epoch 44/50\n",
            "192/192 [==============================] - 2s 13ms/step - loss: 1.5656\n",
            "Epoch 45/50\n",
            "192/192 [==============================] - 2s 13ms/step - loss: 1.5622\n",
            "Epoch 46/50\n",
            "192/192 [==============================] - 2s 13ms/step - loss: 1.5585\n",
            "Epoch 47/50\n",
            "192/192 [==============================] - 2s 12ms/step - loss: 1.5552\n",
            "Epoch 48/50\n",
            "192/192 [==============================] - 2s 13ms/step - loss: 1.5525\n",
            "Epoch 49/50\n",
            "192/192 [==============================] - 2s 13ms/step - loss: 1.5493\n",
            "Epoch 50/50\n",
            "192/192 [==============================] - 2s 13ms/step - loss: 1.5468\n"
          ],
          "name": "stdout"
        },
        {
          "output_type": "display_data",
          "data": {
            "image/png": "[encoded data removed]",
            "text/plain": [
              "<Figure size 432x288 with 1 Axes>"
            ]
          },
          "metadata": {
            "tags": [],
            "needs_background": "light"
          }
        },
        {
          "output_type": "stream",
          "text": [
            "a d’ll,” said alice, wonse who holder’s prote-broth, and misalled truck a confle; the lattered, exchas\n"
          ],
          "name": "stdout"
        }
      ]
    },
    {
      "cell_type": "code",
      "metadata": {
        "id": "vF7NgQl4OzGz",
        "colab_type": "code",
        "colab": {
          "base_uri": "https://localhost:8080/",
          "height": 1000
        },
        "outputId": "1811f1a5-1cc2-412c-e441-5a6eb262da8c"
      },
      "source": [
        "def TwoLayersLSTM(vocab_size, emb_dim, rnn_units, batch_size):\n",
        "    model = tf.keras.Sequential([\n",
        "        tf.keras.layers.Embedding(vocab_size, emb_dim, batch_input_shape=[batch_size, None]),\n",
        "        tf.keras.layers.LSTM(rnn_units, return_sequences=True, stateful=True),\n",
        "        tf.keras.layers.LSTM(rnn_units/4,return_sequences=True, stateful=True),\n",
        "        tf.keras.layers.Dense(vocab_size)\n",
        "    ])\n",
        "    return model\n",
        "\n",
        "checkpoint_dir = './checkpoints'\n",
        "checkpoint_prefix = os.path.join(checkpoint_dir, \"ckpt_{epoch}\")\n",
        "\n",
        "checkpoint_callback=tf.keras.callbacks.ModelCheckpoint(\n",
        "    filepath=checkpoint_prefix,\n",
        "    save_weights_only=True)\n",
        "\n",
        "es_callback = tf.keras.callbacks.EarlyStopping(patience=3, monitor='loss')\n",
        "\n",
        "model = OneLayerLSTM(len(vocab), emb_dim, rnn_units, BATCH_SIZE)\n",
        "model.compile(optimizer='adam', loss=loss)\n",
        "history = model.fit(dataset, epochs=num_epochs, callbacks=[checkpoint_callback, es_callback])\n",
        "\n",
        "tf.train.latest_checkpoint(checkpoint_dir)\n",
        "\n",
        "model = OneLayerLSTM(vocab_size, emb_dim, rnn_units, 1)\n",
        "model.load_weights(tf.train.latest_checkpoint(checkpoint_dir))\n",
        "model.build(tf.TensorShape([1, None]))\n",
        "\n",
        "loss_err = history.history['loss']\n",
        "plt.plot(np.arange(1, 1+num_epochs), loss_err)\n",
        "plt.xlabel('Epoch count')\n",
        "plt.ylabel('Loss function')\n",
        "plt.show()\n",
        "\n",
        "print(generate_text(model, start_string=u\"a \"))"
      ],
      "execution_count": 52,
      "outputs": [
        {
          "output_type": "stream",
          "text": [
            "Epoch 1/50\n",
            "192/192 [==============================] - 2s 11ms/step - loss: 2.9770\n",
            "Epoch 2/50\n",
            "192/192 [==============================] - 2s 12ms/step - loss: 2.4867\n",
            "Epoch 3/50\n",
            "192/192 [==============================] - 2s 12ms/step - loss: 2.3321\n",
            "Epoch 4/50\n",
            "192/192 [==============================] - 2s 12ms/step - loss: 2.2314\n",
            "Epoch 5/50\n",
            "192/192 [==============================] - 2s 12ms/step - loss: 2.1539\n",
            "Epoch 6/50\n",
            "192/192 [==============================] - 2s 12ms/step - loss: 2.0931\n",
            "Epoch 7/50\n",
            "192/192 [==============================] - 2s 12ms/step - loss: 2.0418\n",
            "Epoch 8/50\n",
            "192/192 [==============================] - 2s 12ms/step - loss: 1.9992\n",
            "Epoch 9/50\n",
            "192/192 [==============================] - 2s 12ms/step - loss: 1.9620\n",
            "Epoch 10/50\n",
            "192/192 [==============================] - 2s 12ms/step - loss: 1.9296\n",
            "Epoch 11/50\n",
            "192/192 [==============================] - 2s 12ms/step - loss: 1.9005\n",
            "Epoch 12/50\n",
            "192/192 [==============================] - 2s 12ms/step - loss: 1.8747\n",
            "Epoch 13/50\n",
            "192/192 [==============================] - 2s 12ms/step - loss: 1.8501\n",
            "Epoch 14/50\n",
            "192/192 [==============================] - 2s 12ms/step - loss: 1.8280\n",
            "Epoch 15/50\n",
            "192/192 [==============================] - 2s 12ms/step - loss: 1.8089\n",
            "Epoch 16/50\n",
            "192/192 [==============================] - 2s 12ms/step - loss: 1.7911\n",
            "Epoch 17/50\n",
            "192/192 [==============================] - 2s 12ms/step - loss: 1.7750\n",
            "Epoch 18/50\n",
            "192/192 [==============================] - 2s 12ms/step - loss: 1.7601\n",
            "Epoch 19/50\n",
            "192/192 [==============================] - 2s 12ms/step - loss: 1.7472\n",
            "Epoch 20/50\n",
            "192/192 [==============================] - 2s 12ms/step - loss: 1.7352\n",
            "Epoch 21/50\n",
            "192/192 [==============================] - 2s 12ms/step - loss: 1.7242\n",
            "Epoch 22/50\n",
            "192/192 [==============================] - 2s 12ms/step - loss: 1.7138\n",
            "Epoch 23/50\n",
            "192/192 [==============================] - 2s 12ms/step - loss: 1.7042\n",
            "Epoch 24/50\n",
            "192/192 [==============================] - 2s 12ms/step - loss: 1.6950\n",
            "Epoch 25/50\n",
            "192/192 [==============================] - 2s 12ms/step - loss: 1.6870\n",
            "Epoch 26/50\n",
            "192/192 [==============================] - 2s 12ms/step - loss: 1.6784\n",
            "Epoch 27/50\n",
            "192/192 [==============================] - 2s 12ms/step - loss: 1.6709\n",
            "Epoch 28/50\n",
            "192/192 [==============================] - 2s 12ms/step - loss: 1.6634\n",
            "Epoch 29/50\n",
            "192/192 [==============================] - 2s 12ms/step - loss: 1.6565\n",
            "Epoch 30/50\n",
            "192/192 [==============================] - 2s 12ms/step - loss: 1.6495\n",
            "Epoch 31/50\n",
            "192/192 [==============================] - 2s 12ms/step - loss: 1.6437\n",
            "Epoch 32/50\n",
            "192/192 [==============================] - 2s 12ms/step - loss: 1.6375\n",
            "Epoch 33/50\n",
            "192/192 [==============================] - 2s 12ms/step - loss: 1.6311\n",
            "Epoch 34/50\n",
            "192/192 [==============================] - 2s 12ms/step - loss: 1.6259\n",
            "Epoch 35/50\n",
            "192/192 [==============================] - 2s 12ms/step - loss: 1.6206\n",
            "Epoch 36/50\n",
            "192/192 [==============================] - 2s 12ms/step - loss: 1.6158\n",
            "Epoch 37/50\n",
            "192/192 [==============================] - 2s 12ms/step - loss: 1.6113\n",
            "Epoch 38/50\n",
            "192/192 [==============================] - 2s 12ms/step - loss: 1.6065\n",
            "Epoch 39/50\n",
            "192/192 [==============================] - 2s 12ms/step - loss: 1.6019\n",
            "Epoch 40/50\n",
            "192/192 [==============================] - 2s 12ms/step - loss: 1.5977\n",
            "Epoch 41/50\n",
            "192/192 [==============================] - 2s 12ms/step - loss: 1.5946\n",
            "Epoch 42/50\n",
            "192/192 [==============================] - 2s 12ms/step - loss: 1.5904\n",
            "Epoch 43/50\n",
            "192/192 [==============================] - 2s 12ms/step - loss: 1.5867\n",
            "Epoch 44/50\n",
            "192/192 [==============================] - 2s 12ms/step - loss: 1.5834\n",
            "Epoch 45/50\n",
            "192/192 [==============================] - 2s 12ms/step - loss: 1.5793\n",
            "Epoch 46/50\n",
            "192/192 [==============================] - 2s 12ms/step - loss: 1.5765\n",
            "Epoch 47/50\n",
            "192/192 [==============================] - 2s 12ms/step - loss: 1.5734\n",
            "Epoch 48/50\n",
            "192/192 [==============================] - 2s 12ms/step - loss: 1.5700\n",
            "Epoch 49/50\n",
            "192/192 [==============================] - 2s 12ms/step - loss: 1.5677\n",
            "Epoch 50/50\n",
            "192/192 [==============================] - 2s 12ms/step - loss: 1.5643\n"
          ],
          "name": "stdout"
        },
        {
          "output_type": "display_data",
          "data": {
            "image/png": "[encoded data removed]",
            "text/plain": [
              "<Figure size 432x288 with 1 Axes>"
            ]
          },
          "metadata": {
            "tags": [],
            "needs_background": "light"
          }
        },
        {
          "output_type": "stream",
          "text": [
            "a ,“f, sit’s wire a trejosing lowvertant turn of the place?”“oh i saily surpose the prong agreetheness\n"
          ],
          "name": "stdout"
        }
      ]
    }
  ]
}